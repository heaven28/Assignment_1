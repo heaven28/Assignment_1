{
 "cells": [
  {
   "cell_type": "code",
   "execution_count": 1,
   "metadata": {},
   "outputs": [],
   "source": [
    "import pandas as pd\n",
    "import numpy as np\n",
    "import matplotlib.pyplot as plt\n",
    "import seaborn as sns\n",
    "from sklearn.model_selection import train_test_split\n",
    "from sklearn.preprocessing import OneHotEncoder\n",
    "from sklearn.preprocessing import StandardScaler\n",
    "from sklearn.linear_model import LinearRegression"
   ]
  },
  {
   "cell_type": "code",
   "execution_count": 2,
   "metadata": {},
   "outputs": [
    {
     "data": {
      "text/plain": [
       "'0.11.0'"
      ]
     },
     "execution_count": 2,
     "metadata": {},
     "output_type": "execute_result"
    }
   ],
   "source": [
    "sns.__version__"
   ]
  },
  {
   "cell_type": "code",
   "execution_count": 173,
   "metadata": {},
   "outputs": [],
   "source": [
    "pd.set_option('display.max_columns', 89)\n",
    "df = pd.read_csv(\"data.csv\", index_col=0)\n",
    "# df.describe()\n",
    "# df.head(10)\n",
    "# df.shape\n"
   ]
  },
  {
   "cell_type": "code",
   "execution_count": 174,
   "metadata": {},
   "outputs": [
    {
     "data": {
      "text/plain": [
       "ID                   0\n",
       "Name                 0\n",
       "Age                  0\n",
       "Photo                0\n",
       "Nationality          0\n",
       "                  ... \n",
       "GKHandling          48\n",
       "GKKicking           48\n",
       "GKPositioning       48\n",
       "GKReflexes          48\n",
       "Release Clause    1564\n",
       "Length: 88, dtype: int64"
      ]
     },
     "execution_count": 174,
     "metadata": {},
     "output_type": "execute_result"
    }
   ],
   "source": [
    "df.isna().sum(axis = 0)"
   ]
  },
  {
   "cell_type": "code",
   "execution_count": 175,
   "metadata": {},
   "outputs": [],
   "source": [
    "df.dropna(subset = ['Club'], inplace = True)"
   ]
  },
  {
   "cell_type": "code",
   "execution_count": 176,
   "metadata": {},
   "outputs": [
    {
     "data": {
      "text/plain": [
       "ID                              0\n",
       "Name                            0\n",
       "Age                             0\n",
       "Photo                           0\n",
       "Nationality                     0\n",
       "Flag                            0\n",
       "Overall                         0\n",
       "Potential                       0\n",
       "Club                            0\n",
       "Club Logo                       0\n",
       "Value                           0\n",
       "Wage                            0\n",
       "Special                         0\n",
       "Preferred Foot                 48\n",
       "International Reputation       48\n",
       "Weak Foot                      48\n",
       "Skill Moves                    48\n",
       "Work Rate                      48\n",
       "Body Type                      48\n",
       "Real Face                      48\n",
       "Position                       48\n",
       "Jersey Number                  48\n",
       "Joined                       1312\n",
       "Loaned From                 16702\n",
       "Contract Valid Until           48\n",
       "Height                         48\n",
       "Weight                         48\n",
       "LS                           2040\n",
       "ST                           2040\n",
       "RS                           2040\n",
       "dtype: int64"
      ]
     },
     "execution_count": 176,
     "metadata": {},
     "output_type": "execute_result"
    }
   ],
   "source": [
    "df.isna().sum(axis = 0).head(30)"
   ]
  },
  {
   "cell_type": "code",
   "execution_count": 177,
   "metadata": {},
   "outputs": [
    {
     "data": {
      "text/plain": [
       "ID                   0\n",
       "Name                 0\n",
       "Age                  0\n",
       "Photo                0\n",
       "Nationality          0\n",
       "                  ... \n",
       "GKHandling           0\n",
       "GKKicking            0\n",
       "GKPositioning        0\n",
       "GKReflexes           0\n",
       "Release Clause    1275\n",
       "Length: 88, dtype: int64"
      ]
     },
     "execution_count": 177,
     "metadata": {},
     "output_type": "execute_result"
    }
   ],
   "source": [
    "df.dropna(subset = ['Weak Foot'], inplace = True)\n",
    "df.reset_index(drop = True, inplace = True)\n",
    "df.isna().sum(axis = 0)\n"
   ]
  },
  {
   "cell_type": "code",
   "execution_count": 178,
   "metadata": {},
   "outputs": [
    {
     "data": {
      "text/plain": [
       "(16924, (17918, 88))"
      ]
     },
     "execution_count": 178,
     "metadata": {},
     "output_type": "execute_result"
    }
   ],
   "source": [
    "len(df['Name'].unique()),df.shape"
   ]
  },
  {
   "cell_type": "code",
   "execution_count": 179,
   "metadata": {},
   "outputs": [
    {
     "data": {
      "text/html": [
       "<div>\n",
       "<style scoped>\n",
       "    .dataframe tbody tr th:only-of-type {\n",
       "        vertical-align: middle;\n",
       "    }\n",
       "\n",
       "    .dataframe tbody tr th {\n",
       "        vertical-align: top;\n",
       "    }\n",
       "\n",
       "    .dataframe thead th {\n",
       "        text-align: right;\n",
       "    }\n",
       "</style>\n",
       "<table border=\"1\" class=\"dataframe\">\n",
       "  <thead>\n",
       "    <tr style=\"text-align: right;\">\n",
       "      <th></th>\n",
       "      <th>ID</th>\n",
       "      <th>Name</th>\n",
       "      <th>Age</th>\n",
       "      <th>Photo</th>\n",
       "      <th>Nationality</th>\n",
       "      <th>Flag</th>\n",
       "      <th>Overall</th>\n",
       "      <th>Potential</th>\n",
       "      <th>Club</th>\n",
       "      <th>Club Logo</th>\n",
       "      <th>Value</th>\n",
       "      <th>Wage</th>\n",
       "      <th>Special</th>\n",
       "      <th>Preferred Foot</th>\n",
       "      <th>International Reputation</th>\n",
       "      <th>Weak Foot</th>\n",
       "      <th>Skill Moves</th>\n",
       "      <th>Work Rate</th>\n",
       "      <th>Body Type</th>\n",
       "      <th>Real Face</th>\n",
       "      <th>Position</th>\n",
       "      <th>Jersey Number</th>\n",
       "      <th>Joined</th>\n",
       "      <th>Loaned From</th>\n",
       "      <th>Contract Valid Until</th>\n",
       "      <th>Height</th>\n",
       "      <th>Weight</th>\n",
       "      <th>LS</th>\n",
       "      <th>ST</th>\n",
       "      <th>RS</th>\n",
       "      <th>LW</th>\n",
       "      <th>LF</th>\n",
       "      <th>CF</th>\n",
       "      <th>RF</th>\n",
       "      <th>RW</th>\n",
       "      <th>LAM</th>\n",
       "      <th>CAM</th>\n",
       "      <th>RAM</th>\n",
       "      <th>LM</th>\n",
       "      <th>LCM</th>\n",
       "      <th>CM</th>\n",
       "      <th>RCM</th>\n",
       "      <th>RM</th>\n",
       "      <th>LWB</th>\n",
       "      <th>LDM</th>\n",
       "      <th>CDM</th>\n",
       "      <th>RDM</th>\n",
       "      <th>RWB</th>\n",
       "      <th>LB</th>\n",
       "      <th>LCB</th>\n",
       "      <th>CB</th>\n",
       "      <th>RCB</th>\n",
       "      <th>RB</th>\n",
       "      <th>Crossing</th>\n",
       "      <th>Finishing</th>\n",
       "      <th>HeadingAccuracy</th>\n",
       "      <th>ShortPassing</th>\n",
       "      <th>Volleys</th>\n",
       "      <th>Dribbling</th>\n",
       "      <th>Curve</th>\n",
       "      <th>FKAccuracy</th>\n",
       "      <th>LongPassing</th>\n",
       "      <th>BallControl</th>\n",
       "      <th>Acceleration</th>\n",
       "      <th>SprintSpeed</th>\n",
       "      <th>Agility</th>\n",
       "      <th>Reactions</th>\n",
       "      <th>Balance</th>\n",
       "      <th>ShotPower</th>\n",
       "      <th>Jumping</th>\n",
       "      <th>Stamina</th>\n",
       "      <th>Strength</th>\n",
       "      <th>LongShots</th>\n",
       "      <th>Aggression</th>\n",
       "      <th>Interceptions</th>\n",
       "      <th>Positioning</th>\n",
       "      <th>Vision</th>\n",
       "      <th>Penalties</th>\n",
       "      <th>Composure</th>\n",
       "      <th>Marking</th>\n",
       "      <th>StandingTackle</th>\n",
       "      <th>SlidingTackle</th>\n",
       "      <th>GKDiving</th>\n",
       "      <th>GKHandling</th>\n",
       "      <th>GKKicking</th>\n",
       "      <th>GKPositioning</th>\n",
       "      <th>GKReflexes</th>\n",
       "      <th>Release Clause</th>\n",
       "    </tr>\n",
       "  </thead>\n",
       "  <tbody>\n",
       "  </tbody>\n",
       "</table>\n",
       "</div>"
      ],
      "text/plain": [
       "Empty DataFrame\n",
       "Columns: [ID, Name, Age, Photo, Nationality, Flag, Overall, Potential, Club, Club Logo, Value, Wage, Special, Preferred Foot, International Reputation, Weak Foot, Skill Moves, Work Rate, Body Type, Real Face, Position, Jersey Number, Joined, Loaned From, Contract Valid Until, Height, Weight, LS, ST, RS, LW, LF, CF, RF, RW, LAM, CAM, RAM, LM, LCM, CM, RCM, RM, LWB, LDM, CDM, RDM, RWB, LB, LCB, CB, RCB, RB, Crossing, Finishing, HeadingAccuracy, ShortPassing, Volleys, Dribbling, Curve, FKAccuracy, LongPassing, BallControl, Acceleration, SprintSpeed, Agility, Reactions, Balance, ShotPower, Jumping, Stamina, Strength, LongShots, Aggression, Interceptions, Positioning, Vision, Penalties, Composure, Marking, StandingTackle, SlidingTackle, GKDiving, GKHandling, GKKicking, GKPositioning, GKReflexes, Release Clause]\n",
       "Index: []"
      ]
     },
     "execution_count": 179,
     "metadata": {},
     "output_type": "execute_result"
    }
   ],
   "source": [
    "df[df.duplicated()]"
   ]
  },
  {
   "cell_type": "markdown",
   "metadata": {},
   "source": [
    "##### Ques 5 What is the age distribution in different clubs? Which club has most players young?"
   ]
  },
  {
   "cell_type": "code",
   "execution_count": 180,
   "metadata": {},
   "outputs": [
    {
     "data": {
      "text/plain": [
       "ID                  int64\n",
       "Name               object\n",
       "Age                 int64\n",
       "Photo              object\n",
       "Nationality        object\n",
       "                   ...   \n",
       "GKHandling        float64\n",
       "GKKicking         float64\n",
       "GKPositioning     float64\n",
       "GKReflexes        float64\n",
       "Release Clause     object\n",
       "Length: 88, dtype: object"
      ]
     },
     "execution_count": 180,
     "metadata": {},
     "output_type": "execute_result"
    }
   ],
   "source": [
    "df.groupby(['Club'])\n",
    "df.dtypes"
   ]
  },
  {
   "cell_type": "code",
   "execution_count": 11,
   "metadata": {},
   "outputs": [],
   "source": [
    "a = df.groupby('Club').agg({'Age': lambda x: ','.join([str(i) for i in list(x.values)])})\n",
    "a.reset_index(inplace = True)\n",
    "Threshold = df.Age.mean()\n",
    "a['Count of Young Players'] = a['Age'].apply(lambda x: (np.array([int(i) for i in x.split(',')])<Threshold).sum())"
   ]
  },
  {
   "cell_type": "code",
   "execution_count": 12,
   "metadata": {},
   "outputs": [
    {
     "data": {
      "text/html": [
       "<div>\n",
       "<style scoped>\n",
       "    .dataframe tbody tr th:only-of-type {\n",
       "        vertical-align: middle;\n",
       "    }\n",
       "\n",
       "    .dataframe tbody tr th {\n",
       "        vertical-align: top;\n",
       "    }\n",
       "\n",
       "    .dataframe thead th {\n",
       "        text-align: right;\n",
       "    }\n",
       "</style>\n",
       "<table border=\"1\" class=\"dataframe\">\n",
       "  <thead>\n",
       "    <tr style=\"text-align: right;\">\n",
       "      <th></th>\n",
       "      <th>Club</th>\n",
       "      <th>Age</th>\n",
       "      <th>Count of Young Players</th>\n",
       "    </tr>\n",
       "  </thead>\n",
       "  <tbody>\n",
       "    <tr>\n",
       "      <th>0</th>\n",
       "      <td>SSV Jahn Regensburg</td>\n",
       "      <td>32,33,29,25,25,29,25,25,26,28,27,26,24,22,23,3...</td>\n",
       "      <td>16</td>\n",
       "    </tr>\n",
       "    <tr>\n",
       "      <th>1</th>\n",
       "      <td>1. FC Heidenheim 1846</td>\n",
       "      <td>32,27,30,27,31,29,23,27,31,25,23,24,27,25,23,2...</td>\n",
       "      <td>19</td>\n",
       "    </tr>\n",
       "    <tr>\n",
       "      <th>2</th>\n",
       "      <td>1. FC Kaiserslautern</td>\n",
       "      <td>23,28,25,26,27,27,32,25,21,33,27,22,25,20,21,2...</td>\n",
       "      <td>18</td>\n",
       "    </tr>\n",
       "    <tr>\n",
       "      <th>3</th>\n",
       "      <td>1. FC Köln</td>\n",
       "      <td>25,28,21,30,22,28,23,28,27,25,28,27,26,28,26,3...</td>\n",
       "      <td>16</td>\n",
       "    </tr>\n",
       "    <tr>\n",
       "      <th>4</th>\n",
       "      <td>1. FC Magdeburg</td>\n",
       "      <td>31,27,26,30,32,30,22,24,21,30,21,25,29,27,23,2...</td>\n",
       "      <td>17</td>\n",
       "    </tr>\n",
       "  </tbody>\n",
       "</table>\n",
       "</div>"
      ],
      "text/plain": [
       "                    Club                                                Age  \\\n",
       "0    SSV Jahn Regensburg  32,33,29,25,25,29,25,25,26,28,27,26,24,22,23,3...   \n",
       "1  1. FC Heidenheim 1846  32,27,30,27,31,29,23,27,31,25,23,24,27,25,23,2...   \n",
       "2   1. FC Kaiserslautern  23,28,25,26,27,27,32,25,21,33,27,22,25,20,21,2...   \n",
       "3             1. FC Köln  25,28,21,30,22,28,23,28,27,25,28,27,26,28,26,3...   \n",
       "4        1. FC Magdeburg  31,27,26,30,32,30,22,24,21,30,21,25,29,27,23,2...   \n",
       "\n",
       "   Count of Young Players  \n",
       "0                      16  \n",
       "1                      19  \n",
       "2                      18  \n",
       "3                      16  \n",
       "4                      17  "
      ]
     },
     "execution_count": 12,
     "metadata": {},
     "output_type": "execute_result"
    }
   ],
   "source": [
    "a.head()"
   ]
  },
  {
   "cell_type": "code",
   "execution_count": 13,
   "metadata": {},
   "outputs": [],
   "source": [
    "a.sort_values(['Count of Young Players'], ascending = False, inplace = True)\n",
    "a.reset_index(drop = True, inplace = True)"
   ]
  },
  {
   "cell_type": "code",
   "execution_count": 14,
   "metadata": {},
   "outputs": [
    {
     "data": {
      "text/html": [
       "<div>\n",
       "<style scoped>\n",
       "    .dataframe tbody tr th:only-of-type {\n",
       "        vertical-align: middle;\n",
       "    }\n",
       "\n",
       "    .dataframe tbody tr th {\n",
       "        vertical-align: top;\n",
       "    }\n",
       "\n",
       "    .dataframe thead th {\n",
       "        text-align: right;\n",
       "    }\n",
       "</style>\n",
       "<table border=\"1\" class=\"dataframe\">\n",
       "  <thead>\n",
       "    <tr style=\"text-align: right;\">\n",
       "      <th></th>\n",
       "      <th>Club</th>\n",
       "      <th>Age</th>\n",
       "      <th>Count of Young Players</th>\n",
       "    </tr>\n",
       "  </thead>\n",
       "  <tbody>\n",
       "    <tr>\n",
       "      <th>0</th>\n",
       "      <td>Barnsley</td>\n",
       "      <td>25,23,25,24,25,23,23,25,22,25,24,25,23,23,25,2...</td>\n",
       "      <td>28</td>\n",
       "    </tr>\n",
       "    <tr>\n",
       "      <th>1</th>\n",
       "      <td>Envigado FC</td>\n",
       "      <td>22,29,21,23,23,25,24,23,21,23,21,25,23,21,20,2...</td>\n",
       "      <td>26</td>\n",
       "    </tr>\n",
       "    <tr>\n",
       "      <th>2</th>\n",
       "      <td>FC Sochaux-Montbéliard</td>\n",
       "      <td>24,26,20,24,22,20,21,23,20,25,20,22,24,22,28,2...</td>\n",
       "      <td>26</td>\n",
       "    </tr>\n",
       "    <tr>\n",
       "      <th>3</th>\n",
       "      <td>RC Celta</td>\n",
       "      <td>30,21,27,23,23,31,24,24,25,24,22,32,27,26,22,3...</td>\n",
       "      <td>26</td>\n",
       "    </tr>\n",
       "    <tr>\n",
       "      <th>4</th>\n",
       "      <td>Chamois Niortais Football Club</td>\n",
       "      <td>32,24,23,27,22,18,19,22,24,22,23,22,24,19,22,3...</td>\n",
       "      <td>25</td>\n",
       "    </tr>\n",
       "    <tr>\n",
       "      <th>...</th>\n",
       "      <td>...</td>\n",
       "      <td>...</td>\n",
       "      <td>...</td>\n",
       "    </tr>\n",
       "    <tr>\n",
       "      <th>646</th>\n",
       "      <td>Vitória</td>\n",
       "      <td>34,26,30,26,34,34,30,26,26,34,26,34,30,26,34,2...</td>\n",
       "      <td>0</td>\n",
       "    </tr>\n",
       "    <tr>\n",
       "      <th>647</th>\n",
       "      <td>Chapecoense</td>\n",
       "      <td>26,34,34,34,34,34,30,30,26,30,30,30,34,30,34,3...</td>\n",
       "      <td>0</td>\n",
       "    </tr>\n",
       "    <tr>\n",
       "      <th>648</th>\n",
       "      <td>Botafogo</td>\n",
       "      <td>26,30,26,26,26,26,26,34,34,34,34,30,34,26,26,3...</td>\n",
       "      <td>0</td>\n",
       "    </tr>\n",
       "    <tr>\n",
       "      <th>649</th>\n",
       "      <td>América FC (Minas Gerais)</td>\n",
       "      <td>30,26,30,26,26,34,26,26,30,30,34,30,26,26,26,3...</td>\n",
       "      <td>0</td>\n",
       "    </tr>\n",
       "    <tr>\n",
       "      <th>650</th>\n",
       "      <td>Bahia</td>\n",
       "      <td>30,26,30,26,34,30,30,34,26,34,30,26,34,30,34,3...</td>\n",
       "      <td>0</td>\n",
       "    </tr>\n",
       "  </tbody>\n",
       "</table>\n",
       "<p>651 rows × 3 columns</p>\n",
       "</div>"
      ],
      "text/plain": [
       "                               Club  \\\n",
       "0                          Barnsley   \n",
       "1                       Envigado FC   \n",
       "2            FC Sochaux-Montbéliard   \n",
       "3                          RC Celta   \n",
       "4    Chamois Niortais Football Club   \n",
       "..                              ...   \n",
       "646                         Vitória   \n",
       "647                     Chapecoense   \n",
       "648                        Botafogo   \n",
       "649       América FC (Minas Gerais)   \n",
       "650                           Bahia   \n",
       "\n",
       "                                                   Age  Count of Young Players  \n",
       "0    25,23,25,24,25,23,23,25,22,25,24,25,23,23,25,2...                      28  \n",
       "1    22,29,21,23,23,25,24,23,21,23,21,25,23,21,20,2...                      26  \n",
       "2    24,26,20,24,22,20,21,23,20,25,20,22,24,22,28,2...                      26  \n",
       "3    30,21,27,23,23,31,24,24,25,24,22,32,27,26,22,3...                      26  \n",
       "4    32,24,23,27,22,18,19,22,24,22,23,22,24,19,22,3...                      25  \n",
       "..                                                 ...                     ...  \n",
       "646  34,26,30,26,34,34,30,26,26,34,26,34,30,26,34,2...                       0  \n",
       "647  26,34,34,34,34,34,30,30,26,30,30,30,34,30,34,3...                       0  \n",
       "648  26,30,26,26,26,26,26,34,34,34,34,30,34,26,26,3...                       0  \n",
       "649  30,26,30,26,26,34,26,26,30,30,34,30,26,26,26,3...                       0  \n",
       "650  30,26,30,26,34,30,30,34,26,34,30,26,34,30,34,3...                       0  \n",
       "\n",
       "[651 rows x 3 columns]"
      ]
     },
     "execution_count": 14,
     "metadata": {},
     "output_type": "execute_result"
    }
   ],
   "source": [
    "a"
   ]
  },
  {
   "cell_type": "code",
   "execution_count": 15,
   "metadata": {},
   "outputs": [],
   "source": [
    "lst = []\n",
    "lst1 = []\n",
    "lst = list(a['Age'])\n",
    "for i in range(0, len(lst)):\n",
    "    lst1.append(lst[i].split(','))\n",
    "for i in range(0, len(lst1)):\n",
    "    for j in range(0, len(lst1[i])):\n",
    "        lst1[i][j] = int(lst1[i][j])\n",
    "#     lst2.append(i)"
   ]
  },
  {
   "cell_type": "code",
   "execution_count": 16,
   "metadata": {},
   "outputs": [
    {
     "data": {
      "image/png": "[encoded data removed]",
      "text/plain": [
       "<Figure size 360x360 with 1 Axes>"
      ]
     },
     "metadata": {
      "needs_background": "light"
     },
     "output_type": "display_data"
    }
   ],
   "source": [
    "sns.displot(lst1[0], kind = 'hist').set(xlabel = 'Age')\n",
    "plt.show()"
   ]
  },
  {
   "cell_type": "code",
   "execution_count": 17,
   "metadata": {},
   "outputs": [
    {
     "data": {
      "image/png": "[encoded data removed]",
      "text/plain": [
       "<Figure size 432x288 with 1 Axes>"
      ]
     },
     "metadata": {
      "needs_background": "light"
     },
     "output_type": "display_data"
    }
   ],
   "source": [
    "# fig, axs = plt.subplots(5, 10 figsize=(2, 5), sharex=True, sharey=True,\n",
    "#                         tight_layout=True)\n",
    "plt.hist(lst1[0], bins = 29)\n",
    "\n",
    "# We can increase the number of bins on each axis\n",
    "# axs[0].hist(x, y, bins=40)\n",
    "\n",
    "# # As well as define normalization of the colors\n",
    "# axs[1].hist(x, y, bins=40, norm=colors.LogNorm())\n",
    "\n",
    "# # We can also define custom numbers of bins for each axis\n",
    "# axs[2].hist(x, y, bins=(80, 10), norm=colors.LogNorm())\n",
    "\n",
    "plt.show()\n"
   ]
  },
  {
   "cell_type": "code",
   "execution_count": null,
   "metadata": {},
   "outputs": [],
   "source": []
  },
  {
   "cell_type": "code",
   "execution_count": 18,
   "metadata": {},
   "outputs": [],
   "source": [
    "# use seaborn dist, histogram"
   ]
  },
  {
   "cell_type": "code",
   "execution_count": 19,
   "metadata": {},
   "outputs": [
    {
     "data": {
      "text/plain": [
       "count    17918.000000\n",
       "mean        25.105257\n",
       "std          4.675372\n",
       "min         16.000000\n",
       "25%         21.000000\n",
       "50%         25.000000\n",
       "75%         28.000000\n",
       "max         45.000000\n",
       "Name: Age, dtype: float64"
      ]
     },
     "execution_count": 19,
     "metadata": {},
     "output_type": "execute_result"
    }
   ],
   "source": [
    "# df.Age.min(), df.Age.max(), df.Age.median()\n",
    "df.Age.describe()"
   ]
  },
  {
   "cell_type": "code",
   "execution_count": null,
   "metadata": {},
   "outputs": [],
   "source": []
  },
  {
   "cell_type": "code",
   "execution_count": null,
   "metadata": {},
   "outputs": [],
   "source": []
  },
  {
   "cell_type": "markdown",
   "metadata": {},
   "source": [
    "###### Ques 3(a)"
   ]
  },
  {
   "cell_type": "code",
   "execution_count": 20,
   "metadata": {},
   "outputs": [
    {
     "data": {
      "text/plain": [
       "Index(['ID', 'Name', 'Age', 'Photo', 'Nationality', 'Flag', 'Overall',\n",
       "       'Potential', 'Club', 'Club Logo', 'Value', 'Wage', 'Special',\n",
       "       'Preferred Foot', 'International Reputation', 'Weak Foot',\n",
       "       'Skill Moves', 'Work Rate', 'Body Type', 'Real Face', 'Position',\n",
       "       'Jersey Number', 'Joined', 'Loaned From', 'Contract Valid Until',\n",
       "       'Height', 'Weight', 'LS', 'ST', 'RS', 'LW', 'LF', 'CF', 'RF', 'RW',\n",
       "       'LAM', 'CAM', 'RAM', 'LM', 'LCM', 'CM', 'RCM', 'RM', 'LWB', 'LDM',\n",
       "       'CDM', 'RDM', 'RWB', 'LB', 'LCB', 'CB', 'RCB', 'RB', 'Crossing',\n",
       "       'Finishing', 'HeadingAccuracy', 'ShortPassing', 'Volleys', 'Dribbling',\n",
       "       'Curve', 'FKAccuracy', 'LongPassing', 'BallControl', 'Acceleration',\n",
       "       'SprintSpeed', 'Agility', 'Reactions', 'Balance', 'ShotPower',\n",
       "       'Jumping', 'Stamina', 'Strength', 'LongShots', 'Aggression',\n",
       "       'Interceptions', 'Positioning', 'Vision', 'Penalties', 'Composure',\n",
       "       'Marking', 'StandingTackle', 'SlidingTackle', 'GKDiving', 'GKHandling',\n",
       "       'GKKicking', 'GKPositioning', 'GKReflexes', 'Release Clause'],\n",
       "      dtype='object')"
      ]
     },
     "execution_count": 20,
     "metadata": {},
     "output_type": "execute_result"
    }
   ],
   "source": [
    "df.columns"
   ]
  },
  {
   "cell_type": "code",
   "execution_count": 21,
   "metadata": {},
   "outputs": [],
   "source": [
    "var_target = ['Potential']\n",
    "var_traits = ['Special' , 'Skill Moves' , 'Weak Foot' , 'Work Rate' , 'Body Type' , 'Height', 'Weight', 'Age']\n",
    "var_skills = ['Crossing' , 'Finishing', 'HeadingAccuracy', 'ShortPassing', 'Volleys', 'Dribbling',\n",
    "       'Curve', 'FKAccuracy', 'LongPassing', 'BallControl', 'Acceleration',\n",
    "       'SprintSpeed', 'Agility', 'Reactions', 'Balance', 'ShotPower',\n",
    "       'Jumping', 'Stamina', 'Strength', 'LongShots', 'Aggression',\n",
    "       'Interceptions', 'Positioning', 'Vision', 'Penalties', 'Composure',\n",
    "       'Marking', 'StandingTackle', 'SlidingTackle', 'GKDiving', 'GKHandling',\n",
    "       'GKKicking', 'GKPositioning', 'GKReflexes']"
   ]
  },
  {
   "cell_type": "code",
   "execution_count": 22,
   "metadata": {},
   "outputs": [
    {
     "name": "stdout",
     "output_type": "stream",
     "text": [
      "['BallControl' 'Dribbling' 'ShortPassing' 'Reactions' 'Crossing']\n"
     ]
    }
   ],
   "source": [
    "X_q3 = df.loc[:,var_skills]\n",
    "Y_q3 = df.loc[:,var_target]\n",
    "top = 5\n",
    "c = np.array(list(X_q3.columns))\n",
    "scaler = StandardScaler()\n",
    "X_q3 = scaler.fit_transform(X_q3)\n",
    "reg = LinearRegression().fit(X_q3, Y_q3)\n",
    "print(c[np.argsort(-np.abs(reg.coef_))][0][0:top])"
   ]
  },
  {
   "cell_type": "markdown",
   "metadata": {},
   "source": [
    "###### Q_3(b)"
   ]
  },
  {
   "cell_type": "code",
   "execution_count": 84,
   "metadata": {},
   "outputs": [],
   "source": [
    "X_q3 = df.loc[:,var_traits]\n",
    "Y_q3 = df.loc[:,var_target]"
   ]
  },
  {
   "cell_type": "code",
   "execution_count": 85,
   "metadata": {},
   "outputs": [],
   "source": [
    "my_dict = {'Messi': 9,\n",
    "           'C. Ronaldo': 10, \n",
    "           'Neymar': 8, \n",
    "           'Lean': 9, \n",
    "           'Normal': 7,\n",
    "           'Courtois': 7,\n",
    "           'Stocky': 6, \n",
    "           'PLAYER_BODY_TYPE_25' : 1, \n",
    "           'Shaqiri' : 8, \n",
    "           'Akinfenwa' : 6}\n",
    "X_q3['Weight'] = X_q3['Weight'].apply(lambda x: np.float64(x.replace('lbs','')))\n",
    "X_q3['Body Type'] = X_q3['Body Type'].apply(lambda x: my_dict.get(x))"
   ]
  },
  {
   "cell_type": "code",
   "execution_count": 86,
   "metadata": {},
   "outputs": [],
   "source": [
    "enc = OneHotEncoder(handle_unknown='ignore')\n",
    "X = X_q3[['Work Rate']].values\n",
    "enc.fit(X)\n",
    "temp_X = enc.transform(X)\n",
    "temp_X.toarray()\n",
    "temp_df = pd.DataFrame(data = temp_X.toarray(), columns = enc.categories_)\n",
    "X_q3.drop(['Work Rate'], axis = 1, inplace = True)\n",
    "X_q3 = pd.concat([X_q3,temp_df], axis=1)\n",
    "def con_height (row):\n",
    "        h = [int(i) for i in str(row).split(\"'\")]\n",
    "        return 12*h[0] + h[1]\n",
    "    \n",
    "X_q3['Height'] = X_q3['Height'].apply(con_height)"
   ]
  },
  {
   "cell_type": "code",
   "execution_count": 87,
   "metadata": {},
   "outputs": [
    {
     "data": {
      "text/html": [
       "<div>\n",
       "<style scoped>\n",
       "    .dataframe tbody tr th:only-of-type {\n",
       "        vertical-align: middle;\n",
       "    }\n",
       "\n",
       "    .dataframe tbody tr th {\n",
       "        vertical-align: top;\n",
       "    }\n",
       "\n",
       "    .dataframe thead th {\n",
       "        text-align: right;\n",
       "    }\n",
       "</style>\n",
       "<table border=\"1\" class=\"dataframe\">\n",
       "  <thead>\n",
       "    <tr style=\"text-align: right;\">\n",
       "      <th></th>\n",
       "      <th>Special</th>\n",
       "      <th>Skill Moves</th>\n",
       "      <th>Weak Foot</th>\n",
       "      <th>Body Type</th>\n",
       "      <th>Height</th>\n",
       "      <th>Weight</th>\n",
       "      <th>Age</th>\n",
       "      <th>(High/ High,)</th>\n",
       "      <th>(High/ Low,)</th>\n",
       "      <th>(High/ Medium,)</th>\n",
       "      <th>(Low/ High,)</th>\n",
       "      <th>(Low/ Low,)</th>\n",
       "      <th>(Low/ Medium,)</th>\n",
       "      <th>(Medium/ High,)</th>\n",
       "      <th>(Medium/ Low,)</th>\n",
       "      <th>(Medium/ Medium,)</th>\n",
       "    </tr>\n",
       "  </thead>\n",
       "  <tbody>\n",
       "    <tr>\n",
       "      <th>0</th>\n",
       "      <td>2202</td>\n",
       "      <td>4.0</td>\n",
       "      <td>4.0</td>\n",
       "      <td>9</td>\n",
       "      <td>67</td>\n",
       "      <td>159.0</td>\n",
       "      <td>31</td>\n",
       "      <td>0.0</td>\n",
       "      <td>0.0</td>\n",
       "      <td>0.0</td>\n",
       "      <td>0.0</td>\n",
       "      <td>0.0</td>\n",
       "      <td>0.0</td>\n",
       "      <td>0.0</td>\n",
       "      <td>0.0</td>\n",
       "      <td>1.0</td>\n",
       "    </tr>\n",
       "    <tr>\n",
       "      <th>1</th>\n",
       "      <td>2228</td>\n",
       "      <td>5.0</td>\n",
       "      <td>4.0</td>\n",
       "      <td>10</td>\n",
       "      <td>74</td>\n",
       "      <td>183.0</td>\n",
       "      <td>33</td>\n",
       "      <td>0.0</td>\n",
       "      <td>1.0</td>\n",
       "      <td>0.0</td>\n",
       "      <td>0.0</td>\n",
       "      <td>0.0</td>\n",
       "      <td>0.0</td>\n",
       "      <td>0.0</td>\n",
       "      <td>0.0</td>\n",
       "      <td>0.0</td>\n",
       "    </tr>\n",
       "    <tr>\n",
       "      <th>2</th>\n",
       "      <td>2143</td>\n",
       "      <td>5.0</td>\n",
       "      <td>5.0</td>\n",
       "      <td>8</td>\n",
       "      <td>69</td>\n",
       "      <td>150.0</td>\n",
       "      <td>26</td>\n",
       "      <td>0.0</td>\n",
       "      <td>0.0</td>\n",
       "      <td>1.0</td>\n",
       "      <td>0.0</td>\n",
       "      <td>0.0</td>\n",
       "      <td>0.0</td>\n",
       "      <td>0.0</td>\n",
       "      <td>0.0</td>\n",
       "      <td>0.0</td>\n",
       "    </tr>\n",
       "    <tr>\n",
       "      <th>3</th>\n",
       "      <td>1471</td>\n",
       "      <td>1.0</td>\n",
       "      <td>3.0</td>\n",
       "      <td>9</td>\n",
       "      <td>76</td>\n",
       "      <td>168.0</td>\n",
       "      <td>27</td>\n",
       "      <td>0.0</td>\n",
       "      <td>0.0</td>\n",
       "      <td>0.0</td>\n",
       "      <td>0.0</td>\n",
       "      <td>0.0</td>\n",
       "      <td>0.0</td>\n",
       "      <td>0.0</td>\n",
       "      <td>0.0</td>\n",
       "      <td>1.0</td>\n",
       "    </tr>\n",
       "    <tr>\n",
       "      <th>4</th>\n",
       "      <td>2281</td>\n",
       "      <td>4.0</td>\n",
       "      <td>5.0</td>\n",
       "      <td>7</td>\n",
       "      <td>71</td>\n",
       "      <td>154.0</td>\n",
       "      <td>27</td>\n",
       "      <td>1.0</td>\n",
       "      <td>0.0</td>\n",
       "      <td>0.0</td>\n",
       "      <td>0.0</td>\n",
       "      <td>0.0</td>\n",
       "      <td>0.0</td>\n",
       "      <td>0.0</td>\n",
       "      <td>0.0</td>\n",
       "      <td>0.0</td>\n",
       "    </tr>\n",
       "  </tbody>\n",
       "</table>\n",
       "</div>"
      ],
      "text/plain": [
       "   Special  Skill Moves  Weak Foot  Body Type  Height  Weight  Age  \\\n",
       "0     2202          4.0        4.0          9      67   159.0   31   \n",
       "1     2228          5.0        4.0         10      74   183.0   33   \n",
       "2     2143          5.0        5.0          8      69   150.0   26   \n",
       "3     1471          1.0        3.0          9      76   168.0   27   \n",
       "4     2281          4.0        5.0          7      71   154.0   27   \n",
       "\n",
       "   (High/ High,)  (High/ Low,)  (High/ Medium,)  (Low/ High,)  (Low/ Low,)  \\\n",
       "0            0.0           0.0              0.0           0.0          0.0   \n",
       "1            0.0           1.0              0.0           0.0          0.0   \n",
       "2            0.0           0.0              1.0           0.0          0.0   \n",
       "3            0.0           0.0              0.0           0.0          0.0   \n",
       "4            1.0           0.0              0.0           0.0          0.0   \n",
       "\n",
       "   (Low/ Medium,)  (Medium/ High,)  (Medium/ Low,)  (Medium/ Medium,)  \n",
       "0             0.0              0.0             0.0                1.0  \n",
       "1             0.0              0.0             0.0                0.0  \n",
       "2             0.0              0.0             0.0                0.0  \n",
       "3             0.0              0.0             0.0                1.0  \n",
       "4             0.0              0.0             0.0                0.0  "
      ]
     },
     "execution_count": 87,
     "metadata": {},
     "output_type": "execute_result"
    }
   ],
   "source": [
    "X_q3.head()"
   ]
  },
  {
   "cell_type": "code",
   "execution_count": 88,
   "metadata": {},
   "outputs": [
    {
     "name": "stdout",
     "output_type": "stream",
     "text": [
      "['Special' 'Weight' 'Height' 'Skill Moves' ('High/ High',)]\n"
     ]
    },
    {
     "name": "stderr",
     "output_type": "stream",
     "text": [
      "/home/urg/miniconda3/envs/urg_env/lib/python3.6/site-packages/ipykernel_launcher.py:2: VisibleDeprecationWarning: Creating an ndarray from ragged nested sequences (which is a list-or-tuple of lists-or-tuples-or ndarrays with different lengths or shapes) is deprecated. If you meant to do this, you must specify 'dtype=object' when creating the ndarray\n",
      "  \n"
     ]
    }
   ],
   "source": [
    "top = 5\n",
    "c = np.array(list(X_q3.columns))\n",
    "scaler = StandardScaler()\n",
    "X_q3 = scaler.fit_transform(X_q3)\n",
    "reg = LinearRegression().fit(X_q3, Y_q3)\n",
    "print(c[np.argsort(-np.abs(reg.coef_))][0][0:top])"
   ]
  },
  {
   "cell_type": "markdown",
   "metadata": {},
   "source": [
    "##### Ques 1"
   ]
  },
  {
   "cell_type": "code",
   "execution_count": 232,
   "metadata": {},
   "outputs": [
    {
     "data": {
      "text/plain": [
       "Club\n",
       " SSV Jahn Regensburg     65.586207\n",
       "1. FC Heidenheim 1846    65.750000\n",
       "1. FC Kaiserslautern     63.384615\n",
       "1. FC Köln               70.785714\n",
       "1. FC Magdeburg          65.615385\n",
       "                           ...    \n",
       "Zagłębie Sosnowiec       60.760000\n",
       "Çaykur Rizespor          66.900000\n",
       "Örebro SK                60.481481\n",
       "Östersunds FK            63.545455\n",
       "Śląsk Wrocław            62.208333\n",
       "Name: Overall, Length: 651, dtype: float64"
      ]
     },
     "execution_count": 232,
     "metadata": {},
     "output_type": "execute_result"
    }
   ],
   "source": [
    "df.groupby(['Club']).mean().Overall"
   ]
  },
  {
   "cell_type": "code",
   "execution_count": 235,
   "metadata": {},
   "outputs": [
    {
     "data": {
      "text/plain": [
       "0        565.0\n",
       "1        405.0\n",
       "2        290.0\n",
       "3        260.0\n",
       "4        355.0\n",
       "         ...  \n",
       "17913      1.0\n",
       "17914      1.0\n",
       "17915      1.0\n",
       "17916      1.0\n",
       "17917      1.0\n",
       "Name: Wage, Length: 17918, dtype: float64"
      ]
     },
     "execution_count": 235,
     "metadata": {},
     "output_type": "execute_result"
    }
   ],
   "source": [
    "# df['Wage'] = df['Wage'].apply(lambda x: (x.replace('K','')))\n",
    "# df['Wage'] = df['Wage'].apply(lambda x: np.float64(x.replace('€','')))\n",
    "df['Wage']"
   ]
  },
  {
   "cell_type": "code",
   "execution_count": 245,
   "metadata": {},
   "outputs": [
    {
     "data": {
      "text/html": [
       "<div>\n",
       "<style scoped>\n",
       "    .dataframe tbody tr th:only-of-type {\n",
       "        vertical-align: middle;\n",
       "    }\n",
       "\n",
       "    .dataframe tbody tr th {\n",
       "        vertical-align: top;\n",
       "    }\n",
       "\n",
       "    .dataframe thead th {\n",
       "        text-align: right;\n",
       "    }\n",
       "</style>\n",
       "<table border=\"1\" class=\"dataframe\">\n",
       "  <thead>\n",
       "    <tr style=\"text-align: right;\">\n",
       "      <th></th>\n",
       "      <th>Wage</th>\n",
       "      <th>Overall</th>\n",
       "      <th>Overall/Wage</th>\n",
       "    </tr>\n",
       "    <tr>\n",
       "      <th>Club</th>\n",
       "      <th></th>\n",
       "      <th></th>\n",
       "      <th></th>\n",
       "    </tr>\n",
       "  </thead>\n",
       "  <tbody>\n",
       "    <tr>\n",
       "      <th>Sligo Rovers</th>\n",
       "      <td>19.0</td>\n",
       "      <td>56.631579</td>\n",
       "      <td>2.980609</td>\n",
       "    </tr>\n",
       "    <tr>\n",
       "      <th>Derry City</th>\n",
       "      <td>19.0</td>\n",
       "      <td>55.777778</td>\n",
       "      <td>2.935673</td>\n",
       "    </tr>\n",
       "    <tr>\n",
       "      <th>Viktoria Plzeň</th>\n",
       "      <td>24.0</td>\n",
       "      <td>69.416667</td>\n",
       "      <td>2.892361</td>\n",
       "    </tr>\n",
       "    <tr>\n",
       "      <th>Limerick FC</th>\n",
       "      <td>19.0</td>\n",
       "      <td>54.526316</td>\n",
       "      <td>2.869806</td>\n",
       "    </tr>\n",
       "    <tr>\n",
       "      <th>Shamrock Rovers</th>\n",
       "      <td>22.0</td>\n",
       "      <td>60.090909</td>\n",
       "      <td>2.731405</td>\n",
       "    </tr>\n",
       "    <tr>\n",
       "      <th>Dalkurd FF</th>\n",
       "      <td>22.0</td>\n",
       "      <td>59.761905</td>\n",
       "      <td>2.716450</td>\n",
       "    </tr>\n",
       "    <tr>\n",
       "      <th>Spartak Moscow</th>\n",
       "      <td>27.0</td>\n",
       "      <td>73.185185</td>\n",
       "      <td>2.710562</td>\n",
       "    </tr>\n",
       "    <tr>\n",
       "      <th>PAOK</th>\n",
       "      <td>27.0</td>\n",
       "      <td>72.444444</td>\n",
       "      <td>2.683128</td>\n",
       "    </tr>\n",
       "    <tr>\n",
       "      <th>Shakhtar Donetsk</th>\n",
       "      <td>28.0</td>\n",
       "      <td>72.821429</td>\n",
       "      <td>2.600765</td>\n",
       "    </tr>\n",
       "    <tr>\n",
       "      <th>Olympiacos CFP</th>\n",
       "      <td>28.0</td>\n",
       "      <td>72.500000</td>\n",
       "      <td>2.589286</td>\n",
       "    </tr>\n",
       "  </tbody>\n",
       "</table>\n",
       "</div>"
      ],
      "text/plain": [
       "                  Wage    Overall  Overall/Wage\n",
       "Club                                           \n",
       "Sligo Rovers      19.0  56.631579      2.980609\n",
       "Derry City        19.0  55.777778      2.935673\n",
       "Viktoria Plzeň    24.0  69.416667      2.892361\n",
       "Limerick FC       19.0  54.526316      2.869806\n",
       "Shamrock Rovers   22.0  60.090909      2.731405\n",
       "Dalkurd FF        22.0  59.761905      2.716450\n",
       "Spartak Moscow    27.0  73.185185      2.710562\n",
       "PAOK              27.0  72.444444      2.683128\n",
       "Shakhtar Donetsk  28.0  72.821429      2.600765\n",
       "Olympiacos CFP    28.0  72.500000      2.589286"
      ]
     },
     "execution_count": 245,
     "metadata": {},
     "output_type": "execute_result"
    }
   ],
   "source": [
    "a = df.groupby('Club').agg({'Wage': 'sum', 'Overall': 'mean'})\n",
    "a['Overall/Wage'] = a['Overall']/a['Wage']\n",
    "a.sort_values(by = 'Overall/Wage', ascending = False).head(10)"
   ]
  },
  {
   "cell_type": "code",
   "execution_count": 92,
   "metadata": {},
   "outputs": [
    {
     "data": {
      "text/plain": [
       "count    17918.000000\n",
       "mean         9.883748\n",
       "std         22.142769\n",
       "min          1.000000\n",
       "25%          1.000000\n",
       "50%          3.000000\n",
       "75%          9.000000\n",
       "max        565.000000\n",
       "Name: Wage, dtype: float64"
      ]
     },
     "execution_count": 92,
     "metadata": {},
     "output_type": "execute_result"
    }
   ],
   "source": []
  },
  {
   "cell_type": "markdown",
   "metadata": {},
   "source": [
    "##### Q_4"
   ]
  },
  {
   "cell_type": "code",
   "execution_count": 136,
   "metadata": {},
   "outputs": [],
   "source": [
    "var_target = ['Wage']\n",
    "var_features = ['Wage', 'Overall', 'Potential','Special' , 'Skill Moves' , 'Weak Foot' , 'Work Rate' , 'Body Type' , 'Height', 'Weight', 'Age', \n",
    "              'Crossing' , 'Finishing', 'HeadingAccuracy', 'ShortPassing', 'Volleys', 'Dribbling',\n",
    "       'Curve', 'FKAccuracy', 'LongPassing', 'BallControl', 'Acceleration',\n",
    "       'SprintSpeed', 'Agility', 'Reactions', 'Balance', 'ShotPower',\n",
    "       'Jumping', 'Stamina', 'Strength', 'LongShots', 'Aggression',\n",
    "       'Interceptions', 'Positioning', 'Vision', 'Penalties', 'Composure',\n",
    "       'Marking', 'StandingTackle', 'SlidingTackle', 'GKDiving', 'GKHandling',\n",
    "       'GKKicking', 'GKPositioning', 'GKReflexes', 'International Reputation']"
   ]
  },
  {
   "cell_type": "code",
   "execution_count": 137,
   "metadata": {},
   "outputs": [],
   "source": [
    "X_q4 = df.loc[:,var_features]\n",
    "Y_q4 = df.loc[:,var_target]"
   ]
  },
  {
   "cell_type": "code",
   "execution_count": 138,
   "metadata": {},
   "outputs": [
    {
     "data": {
      "text/plain": [
       "Wage                        float64\n",
       "Overall                       int64\n",
       "Potential                     int64\n",
       "Special                       int64\n",
       "Skill Moves                 float64\n",
       "Weak Foot                   float64\n",
       "Work Rate                    object\n",
       "Body Type                    object\n",
       "Height                       object\n",
       "Weight                       object\n",
       "Age                           int64\n",
       "Crossing                    float64\n",
       "Finishing                   float64\n",
       "HeadingAccuracy             float64\n",
       "ShortPassing                float64\n",
       "Volleys                     float64\n",
       "Dribbling                   float64\n",
       "Curve                       float64\n",
       "FKAccuracy                  float64\n",
       "LongPassing                 float64\n",
       "BallControl                 float64\n",
       "Acceleration                float64\n",
       "SprintSpeed                 float64\n",
       "Agility                     float64\n",
       "Reactions                   float64\n",
       "Balance                     float64\n",
       "ShotPower                   float64\n",
       "Jumping                     float64\n",
       "Stamina                     float64\n",
       "Strength                    float64\n",
       "LongShots                   float64\n",
       "Aggression                  float64\n",
       "Interceptions               float64\n",
       "Positioning                 float64\n",
       "Vision                      float64\n",
       "Penalties                   float64\n",
       "Composure                   float64\n",
       "Marking                     float64\n",
       "StandingTackle              float64\n",
       "SlidingTackle               float64\n",
       "GKDiving                    float64\n",
       "GKHandling                  float64\n",
       "GKKicking                   float64\n",
       "GKPositioning               float64\n",
       "GKReflexes                  float64\n",
       "International Reputation    float64\n",
       "dtype: object"
      ]
     },
     "execution_count": 138,
     "metadata": {},
     "output_type": "execute_result"
    }
   ],
   "source": [
    "X_q4.dtypes"
   ]
  },
  {
   "cell_type": "code",
   "execution_count": 139,
   "metadata": {},
   "outputs": [],
   "source": [
    "my_dict = {'Messi': 9,\n",
    "           'C. Ronaldo': 10, \n",
    "           'Neymar': 8, \n",
    "           'Lean': 9, \n",
    "           'Normal': 7,\n",
    "           'Courtois': 7,\n",
    "           'Stocky': 6, \n",
    "           'PLAYER_BODY_TYPE_25' : 1, \n",
    "           'Shaqiri' : 8, \n",
    "           'Akinfenwa' : 6}\n",
    "X_q4['Weight'] = X_q4['Weight'].apply(lambda x: np.float64(x.replace('lbs','')))\n",
    "X_q4['Body Type'] = X_q4['Body Type'].apply(lambda x: my_dict.get(x))\n",
    "enc = OneHotEncoder(handle_unknown='ignore')\n",
    "X = X_q4[['Work Rate']].values\n",
    "enc.fit(X)\n",
    "temp_X = enc.transform(X)\n",
    "temp_X.toarray()\n",
    "temp_df = pd.DataFrame(data = temp_X.toarray(), columns = enc.categories_)\n",
    "X_q4.drop(['Work Rate'], axis = 1, inplace = True)\n",
    "X_q4 = pd.concat([X_q4,temp_df], axis=1)\n",
    "def con_height (row):\n",
    "        h = [int(i) for i in str(row).split(\"'\")]\n",
    "        return 12*h[0] + h[1]\n",
    "    \n",
    "X_q4['Height'] = X_q4['Height'].apply(con_height)"
   ]
  },
  {
   "cell_type": "code",
   "execution_count": 144,
   "metadata": {},
   "outputs": [
    {
     "data": {
      "text/plain": [
       "<AxesSubplot:>"
      ]
     },
     "execution_count": 144,
     "metadata": {},
     "output_type": "execute_result"
    },
    {
     "data": {
      "image/png": "[encoded data removed]",
      "text/plain": [
       "<Figure size 1296x144 with 2 Axes>"
      ]
     },
     "metadata": {
      "needs_background": "light"
     },
     "output_type": "display_data"
    }
   ],
   "source": [
    "# sns.heatmap(X_q4.corr(method= 'pearson'))\n",
    "plt.figure(figsize = (18,2))\n",
    "sns.heatmap(X_q4.corr(method= 'pearson')[['Wage']].T)"
   ]
  },
  {
   "cell_type": "code",
   "execution_count": 160,
   "metadata": {},
   "outputs": [
    {
     "data": {
      "text/html": [
       "<div>\n",
       "<style scoped>\n",
       "    .dataframe tbody tr th:only-of-type {\n",
       "        vertical-align: middle;\n",
       "    }\n",
       "\n",
       "    .dataframe tbody tr th {\n",
       "        vertical-align: top;\n",
       "    }\n",
       "\n",
       "    .dataframe thead th {\n",
       "        text-align: right;\n",
       "    }\n",
       "</style>\n",
       "<table border=\"1\" class=\"dataframe\">\n",
       "  <thead>\n",
       "    <tr style=\"text-align: right;\">\n",
       "      <th></th>\n",
       "      <th>Wage</th>\n",
       "    </tr>\n",
       "  </thead>\n",
       "  <tbody>\n",
       "    <tr>\n",
       "      <th>International Reputation</th>\n",
       "      <td>0.670736</td>\n",
       "    </tr>\n",
       "    <tr>\n",
       "      <th>Overall</th>\n",
       "      <td>0.575940</td>\n",
       "    </tr>\n",
       "    <tr>\n",
       "      <th>Reactions</th>\n",
       "      <td>0.499564</td>\n",
       "    </tr>\n",
       "    <tr>\n",
       "      <th>Potential</th>\n",
       "      <td>0.488999</td>\n",
       "    </tr>\n",
       "    <tr>\n",
       "      <th>Composure</th>\n",
       "      <td>0.423256</td>\n",
       "    </tr>\n",
       "    <tr>\n",
       "      <th>Special</th>\n",
       "      <td>0.350178</td>\n",
       "    </tr>\n",
       "    <tr>\n",
       "      <th>Vision</th>\n",
       "      <td>0.317034</td>\n",
       "    </tr>\n",
       "  </tbody>\n",
       "</table>\n",
       "</div>"
      ],
      "text/plain": [
       "                              Wage\n",
       "International Reputation  0.670736\n",
       "Overall                   0.575940\n",
       "Reactions                 0.499564\n",
       "Potential                 0.488999\n",
       "Composure                 0.423256\n",
       "Special                   0.350178\n",
       "Vision                    0.317034"
      ]
     },
     "execution_count": 160,
     "metadata": {},
     "output_type": "execute_result"
    }
   ],
   "source": [
    "top = 7\n",
    "X_q4.corr(method= 'pearson').sort_values(['Wage'], ascending = False)[['Wage']].iloc[1:top+1,0:]"
   ]
  },
  {
   "cell_type": "markdown",
   "metadata": {},
   "source": [
    "##### Q_2"
   ]
  },
  {
   "cell_type": "code",
   "execution_count": 166,
   "metadata": {},
   "outputs": [
    {
     "data": {
      "text/plain": [
       "<AxesSubplot:>"
      ]
     },
     "execution_count": 166,
     "metadata": {},
     "output_type": "execute_result"
    },
    {
     "data": {
      "image/png": "[encoded data removed]",
      "text/plain": [
       "<Figure size 432x288 with 2 Axes>"
      ]
     },
     "metadata": {
      "needs_background": "light"
     },
     "output_type": "display_data"
    }
   ],
   "source": [
    "sns.heatmap(df[['Age','Potential']].corr(method= 'pearson'), annot=True, fmt=\"f\")"
   ]
  },
  {
   "cell_type": "code",
   "execution_count": 170,
   "metadata": {},
   "outputs": [
    {
     "data": {
      "text/plain": [
       "array(['€110.5M', '€77M', '€118.5M', '€72M', '€102M', '€93M', '€67M',\n",
       "       '€80M', '€51M', '€68M', '€76.5M', '€44M', '€60M', '€63M', '€89M',\n",
       "       '€83.5M', '€78M', '€58M', '€53.5M', '€51.5M', '€38M', '€64.5M',\n",
       "       '€27M', '€81M', '€69.5M', '€59.5M', '€62M', '€73.5M', '€59M',\n",
       "       '€46M', '€43M', '€36M', '€57M', '€24M', '€30M', '€4M', '€64M',\n",
       "       '€30.5M', '€62.5M', '€52M', '€45M', '€34M', '€46.5M', '€61M',\n",
       "       '€41.5M', '€44.5M', '€56.5M', '€53M', '€50M', '€55M', '€36.5M',\n",
       "       '€45.5M', '€43.5M', '€35M', '€39M', '€18M', '€21.5M', '€50.5M',\n",
       "       '€54M', '€40.5M', '€37.5M', '€28.5M', '€37M', '€32M', '€26M',\n",
       "       '€33M', '€38.5M', '€35.5M', '€9M', '€15.5M', '€22M', '€14M',\n",
       "       '€42.5M', '€31.5M', '€42M', '€25M', '€29.5M', '€31M', '€24.5M',\n",
       "       '€27.5M', '€29M', '€16.5M', '€23M', '€19M', '€4.2M', '€40M',\n",
       "       '€41M', '€28M', '€22.5M', '€34.5M', '€32.5M', '€20M', '€26.5M',\n",
       "       '€25.5M', '€21M', '€13M', '€17.5M', '€11.5M', '€8M', '€6M',\n",
       "       '€19.5M', '€6.5M', '€20.5M', '€23.5M', '€18.5M', '€17M', '€12.5M',\n",
       "       '€15M', '€13.5M', '€4.8M', '€3M', '€1.5M', '€16M', '€10M', '€11M',\n",
       "       '€7M', '€14.5M', '€5.5M', '€10.5M', '€4.5M', '€12M', '€9.5M',\n",
       "       '€8.5M', '€2M', '€1.7M', '€1M', '€3.6M', '€7.5M', '€3.8M', '€5M',\n",
       "       '€0', '€2.4M', '€2.9M', '€4.7M', '€4.1M', '€2.1M', '€600K',\n",
       "       '€2.7M', '€3.4M', '€2.5M', '€3.2M', '€3.1M', '€4.9M', '€4.3M',\n",
       "       '€2.3M', '€525K', '€3.9M', '€1.8M', '€2.2M', '€4.4M', '€1.6M',\n",
       "       '€900K', '€3.7M', '€3.5M', '€1.9M', '€450K', '€775K', '€650K',\n",
       "       '€750K', '€2.8M', '€1.3M', '€4.6M', '€2.6M', '€1.2M', '€375K',\n",
       "       '€3.3M', '€270K', '€950K', '€550K', '€1.1M', '€975K', '€1.4M',\n",
       "       '€725K', '€425K', '€210K', '€875K', '€675K', '€325K', '€800K',\n",
       "       '€850K', '€160K', '€120K', '€825K', '€925K', '€625K', '€240K',\n",
       "       '€500K', '€575K', '€200K', '€250K', '€700K', '€350K', '€475K',\n",
       "       '€300K', '€70K', '€140K', '€230K', '€400K', '€280K', '€100K',\n",
       "       '€60K', '€260K', '€180K', '€220K', '€50K', '€290K', '€90K',\n",
       "       '€150K', '€40K', '€130K', '€190K', '€170K', '€110K', '€30K',\n",
       "       '€80K', '€20K', '€10K'], dtype=object)"
      ]
     },
     "execution_count": 170,
     "metadata": {},
     "output_type": "execute_result"
    }
   ],
   "source": [
    "# sns.heatmap(df[['Age','Value']].corr(method= 'pearson'), annot=True, fmt=\"f\")\n",
    "df['Value'].unique()"
   ]
  },
  {
   "cell_type": "code",
   "execution_count": 189,
   "metadata": {},
   "outputs": [],
   "source": [
    "def con_val (x):\n",
    "    try:\n",
    "        return np.float(x.replace('K','').replace('€',''))/1000\n",
    "    except:\n",
    "        return np.float(x.replace('M','').replace('€',''))\n",
    "df['Value'] = df['Value'].apply(con_val)"
   ]
  },
  {
   "cell_type": "code",
   "execution_count": 248,
   "metadata": {},
   "outputs": [
    {
     "data": {
      "text/plain": [
       "<AxesSubplot:>"
      ]
     },
     "execution_count": 248,
     "metadata": {},
     "output_type": "execute_result"
    },
    {
     "data": {
      "image/png": "[encoded data removed]",
      "text/plain": [
       "<Figure size 432x288 with 2 Axes>"
      ]
     },
     "metadata": {
      "needs_background": "light"
     },
     "output_type": "display_data"
    }
   ],
   "source": [
    "sns.heatmap(df[['Value','Age']].corr(method= 'pearson'), annot=True, fmt=\"f\")"
   ]
  },
  {
   "cell_type": "code",
   "execution_count": 229,
   "metadata": {},
   "outputs": [
    {
     "data": {
      "text/html": [
       "<div>\n",
       "<style scoped>\n",
       "    .dataframe tbody tr th:only-of-type {\n",
       "        vertical-align: middle;\n",
       "    }\n",
       "\n",
       "    .dataframe tbody tr th {\n",
       "        vertical-align: top;\n",
       "    }\n",
       "\n",
       "    .dataframe thead th {\n",
       "        text-align: right;\n",
       "    }\n",
       "</style>\n",
       "<table border=\"1\" class=\"dataframe\">\n",
       "  <thead>\n",
       "    <tr style=\"text-align: right;\">\n",
       "      <th></th>\n",
       "      <th>SprintSpeed</th>\n",
       "      <th>Acceleration</th>\n",
       "    </tr>\n",
       "    <tr>\n",
       "      <th>Age</th>\n",
       "      <th></th>\n",
       "      <th></th>\n",
       "    </tr>\n",
       "  </thead>\n",
       "  <tbody>\n",
       "    <tr>\n",
       "      <th>16</th>\n",
       "      <td>65.0</td>\n",
       "      <td>66.5</td>\n",
       "    </tr>\n",
       "    <tr>\n",
       "      <th>17</th>\n",
       "      <td>65.0</td>\n",
       "      <td>66.0</td>\n",
       "    </tr>\n",
       "    <tr>\n",
       "      <th>18</th>\n",
       "      <td>65.0</td>\n",
       "      <td>66.0</td>\n",
       "    </tr>\n",
       "    <tr>\n",
       "      <th>19</th>\n",
       "      <td>67.0</td>\n",
       "      <td>67.0</td>\n",
       "    </tr>\n",
       "    <tr>\n",
       "      <th>20</th>\n",
       "      <td>68.0</td>\n",
       "      <td>68.0</td>\n",
       "    </tr>\n",
       "    <tr>\n",
       "      <th>21</th>\n",
       "      <td>68.0</td>\n",
       "      <td>68.0</td>\n",
       "    </tr>\n",
       "    <tr>\n",
       "      <th>22</th>\n",
       "      <td>69.0</td>\n",
       "      <td>69.0</td>\n",
       "    </tr>\n",
       "    <tr>\n",
       "      <th>23</th>\n",
       "      <td>69.0</td>\n",
       "      <td>69.0</td>\n",
       "    </tr>\n",
       "    <tr>\n",
       "      <th>24</th>\n",
       "      <td>69.0</td>\n",
       "      <td>69.0</td>\n",
       "    </tr>\n",
       "    <tr>\n",
       "      <th>25</th>\n",
       "      <td>70.0</td>\n",
       "      <td>70.0</td>\n",
       "    </tr>\n",
       "    <tr>\n",
       "      <th>26</th>\n",
       "      <td>69.0</td>\n",
       "      <td>69.0</td>\n",
       "    </tr>\n",
       "    <tr>\n",
       "      <th>27</th>\n",
       "      <td>69.0</td>\n",
       "      <td>69.0</td>\n",
       "    </tr>\n",
       "    <tr>\n",
       "      <th>28</th>\n",
       "      <td>68.0</td>\n",
       "      <td>68.0</td>\n",
       "    </tr>\n",
       "    <tr>\n",
       "      <th>29</th>\n",
       "      <td>66.5</td>\n",
       "      <td>66.0</td>\n",
       "    </tr>\n",
       "    <tr>\n",
       "      <th>30</th>\n",
       "      <td>67.0</td>\n",
       "      <td>67.0</td>\n",
       "    </tr>\n",
       "    <tr>\n",
       "      <th>31</th>\n",
       "      <td>65.0</td>\n",
       "      <td>66.0</td>\n",
       "    </tr>\n",
       "    <tr>\n",
       "      <th>32</th>\n",
       "      <td>61.0</td>\n",
       "      <td>61.0</td>\n",
       "    </tr>\n",
       "    <tr>\n",
       "      <th>33</th>\n",
       "      <td>56.0</td>\n",
       "      <td>56.5</td>\n",
       "    </tr>\n",
       "    <tr>\n",
       "      <th>34</th>\n",
       "      <td>58.5</td>\n",
       "      <td>58.0</td>\n",
       "    </tr>\n",
       "    <tr>\n",
       "      <th>35</th>\n",
       "      <td>49.0</td>\n",
       "      <td>50.0</td>\n",
       "    </tr>\n",
       "    <tr>\n",
       "      <th>36</th>\n",
       "      <td>45.0</td>\n",
       "      <td>46.0</td>\n",
       "    </tr>\n",
       "    <tr>\n",
       "      <th>37</th>\n",
       "      <td>42.0</td>\n",
       "      <td>44.0</td>\n",
       "    </tr>\n",
       "    <tr>\n",
       "      <th>38</th>\n",
       "      <td>39.0</td>\n",
       "      <td>37.0</td>\n",
       "    </tr>\n",
       "    <tr>\n",
       "      <th>39</th>\n",
       "      <td>42.0</td>\n",
       "      <td>42.0</td>\n",
       "    </tr>\n",
       "    <tr>\n",
       "      <th>40</th>\n",
       "      <td>33.0</td>\n",
       "      <td>32.0</td>\n",
       "    </tr>\n",
       "    <tr>\n",
       "      <th>41</th>\n",
       "      <td>46.5</td>\n",
       "      <td>43.5</td>\n",
       "    </tr>\n",
       "    <tr>\n",
       "      <th>42</th>\n",
       "      <td>56.0</td>\n",
       "      <td>52.0</td>\n",
       "    </tr>\n",
       "    <tr>\n",
       "      <th>44</th>\n",
       "      <td>19.0</td>\n",
       "      <td>19.0</td>\n",
       "    </tr>\n",
       "    <tr>\n",
       "      <th>45</th>\n",
       "      <td>57.0</td>\n",
       "      <td>60.0</td>\n",
       "    </tr>\n",
       "  </tbody>\n",
       "</table>\n",
       "</div>"
      ],
      "text/plain": [
       "     SprintSpeed  Acceleration\n",
       "Age                           \n",
       "16          65.0          66.5\n",
       "17          65.0          66.0\n",
       "18          65.0          66.0\n",
       "19          67.0          67.0\n",
       "20          68.0          68.0\n",
       "21          68.0          68.0\n",
       "22          69.0          69.0\n",
       "23          69.0          69.0\n",
       "24          69.0          69.0\n",
       "25          70.0          70.0\n",
       "26          69.0          69.0\n",
       "27          69.0          69.0\n",
       "28          68.0          68.0\n",
       "29          66.5          66.0\n",
       "30          67.0          67.0\n",
       "31          65.0          66.0\n",
       "32          61.0          61.0\n",
       "33          56.0          56.5\n",
       "34          58.5          58.0\n",
       "35          49.0          50.0\n",
       "36          45.0          46.0\n",
       "37          42.0          44.0\n",
       "38          39.0          37.0\n",
       "39          42.0          42.0\n",
       "40          33.0          32.0\n",
       "41          46.5          43.5\n",
       "42          56.0          52.0\n",
       "44          19.0          19.0\n",
       "45          57.0          60.0"
      ]
     },
     "execution_count": 229,
     "metadata": {},
     "output_type": "execute_result"
    }
   ],
   "source": [
    "df.groupby(['Age']).median()[['SprintSpeed','Acceleration']]#.sort_values(ascending = False).head()\n",
    "# df.groupby(['Age']).agg({'SprintSpeed': 'max'}).sort_values(by = 'SprintSpeed', ascending = False)"
   ]
  },
  {
   "cell_type": "code",
   "execution_count": null,
   "metadata": {},
   "outputs": [],
   "source": []
  }
 ],
 "metadata": {
  "kernelspec": {
   "display_name": "Python 3",
   "language": "python",
   "name": "python3"
  },
  "language_info": {
   "codemirror_mode": {
    "name": "ipython",
    "version": 3
   },
   "file_extension": ".py",
   "mimetype": "text/x-python",
   "name": "python",
   "nbconvert_exporter": "python",
   "pygments_lexer": "ipython3",
   "version": "3.6.10"
  }
 },
 "nbformat": 4,
 "nbformat_minor": 4
}
